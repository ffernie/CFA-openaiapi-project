{
 "cells": [
  {
   "cell_type": "markdown",
   "metadata": {},
   "source": [
    "# <span style=\"color:#639DF3\">Summarizer of CFA Research Challenge Presentations</span>\n",
    "\n",
    "- This project creates an Python script able to summarize the CFA Research Challenge Presentations available on CFA Institute YouTube channel in an .md file."
   ]
  },
  {
   "cell_type": "code",
   "execution_count": 18,
   "metadata": {},
   "outputs": [],
   "source": [
    "import pytubefix # type: ignore\n",
    "import ffmpeg # type: ignore\n",
    "import openai # type: ignore\n",
    "import sys # type: ignore\n",
    "import os # type: ignore"
   ]
  },
  {
   "cell_type": "code",
   "execution_count": 19,
   "metadata": {},
   "outputs": [],
   "source": [
    "# Accessing the OpeanAI API with your api_key\n",
    "with open('openai_api.txt', 'r') as f:\n",
    "    api_key = f.readline().strip()\n",
    "\n",
    "client = openai.OpenAI(api_key=api_key)"
   ]
  },
  {
   "cell_type": "code",
   "execution_count": null,
   "metadata": {},
   "outputs": [],
   "source": [
    "# Get the YouTube video using its URL\n",
    "url = str(input('Insert the YouTube video URL: '))\n",
    "filename = str(input('Insert the file name to be saved in your computer as .mp3: ')) + '.mp3'\n",
    "yt = pytubefix.YouTube(url)\n",
    "yt"
   ]
  },
  {
   "cell_type": "code",
   "execution_count": null,
   "metadata": {},
   "outputs": [],
   "source": [
    "# Access the first stream of the video's audio\n",
    "stream = yt.streams.filter(only_audio=True).first().url\n",
    "stream"
   ]
  },
  {
   "cell_type": "code",
   "execution_count": null,
   "metadata": {},
   "outputs": [],
   "source": [
    "# Process the stream with ffmpeg and save it as .mp3 file.\n",
    "input_stream = ffmpeg.input(stream)\n",
    "output_stream = ffmpeg.output(input_stream, filename, format=\"mp3\", loglevel=\"error\")\n",
    "ffmpeg.run(output_stream)"
   ]
  },
  {
   "cell_type": "code",
   "execution_count": 23,
   "metadata": {},
   "outputs": [],
   "source": [
    "# Generate the transcription using OpenAI Whisper\n",
    "audio_file = open(filename, 'rb')\n",
    "transcript = client.audio.transcriptions.create(\n",
    "    model=\"whisper-1\",\n",
    "    file=audio_file\n",
    ").text"
   ]
  },
  {
   "cell_type": "code",
   "execution_count": 26,
   "metadata": {},
   "outputs": [],
   "source": [
    "# Summarize the video's audio based on its transcription\n",
    "completion = client.chat.completions.create(\n",
    "    model=\"gpt-4o-mini\",\n",
    "    messages=[\n",
    "        {\"role\": \"system\",\n",
    "         \"content\": \"\"\"\n",
    "         You are an assistant that summarize research challenge's presentations in detail. Answer with markdown format.\n",
    "         \"\"\"},\n",
    "        {\"role\": \"user\",\n",
    "         \"content\": f\"Describe the following video: {transcript}\"}\n",
    "    ]\n",
    ")"
   ]
  },
  {
   "cell_type": "code",
   "execution_count": 27,
   "metadata": {},
   "outputs": [],
   "source": [
    "# Save the summary as .md file\n",
    "summary_name = str(input('Insert the name of the summary file to be saved in your computer as .md:')) + '.md'\n",
    "with open(summary_name, \"w+\") as md_file:\n",
    "    md_file.write(completion.choices[0].message.content)"
   ]
  },
  {
   "cell_type": "code",
   "execution_count": null,
   "metadata": {},
   "outputs": [],
   "source": []
  }
 ],
 "metadata": {
  "kernelspec": {
   "display_name": "Python 3",
   "language": "python",
   "name": "python3"
  },
  "language_info": {
   "codemirror_mode": {
    "name": "ipython",
    "version": 3
   },
   "file_extension": ".py",
   "mimetype": "text/x-python",
   "name": "python",
   "nbconvert_exporter": "python",
   "pygments_lexer": "ipython3",
   "version": "3.11.3"
  }
 },
 "nbformat": 4,
 "nbformat_minor": 2
}
